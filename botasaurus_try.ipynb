{
 "cells": [
  {
   "cell_type": "code",
   "execution_count": 2,
   "metadata": {},
   "outputs": [],
   "source": [
    "from botasaurus.browser import browser, Driver\n",
    "from botasaurus.request import request, Request\n",
    "from botasaurus.soupify import soupify"
   ]
  },
  {
   "cell_type": "code",
   "execution_count": null,
   "metadata": {},
   "outputs": [
    {
     "name": "stdout",
     "output_type": "stream",
     "text": [
      "Written\n",
      "     output/scrape_heading_task.json\n"
     ]
    },
    {
     "data": {
      "text/plain": [
       "{'heading': 'Get the Data You Want - Effortlessly'}"
      ]
     },
     "execution_count": 6,
     "metadata": {},
     "output_type": "execute_result"
    }
   ],
   "source": [
    "@browser\n",
    "def scrape_heading_task(driver: Driver, data):\n",
    "    # Visit the Omkar Cloud website\n",
    "    driver.get(\"https://www.omkar.cloud/\")\n",
    "    \n",
    "    # Retrieve the heading element's text\n",
    "    heading = driver.get_text(\"h1\")\n",
    "\n",
    "    # Save the data as a JSON file in output/scrape_heading_task.json\n",
    "    return {\n",
    "        \"heading\": heading\n",
    "    }\n",
    "     \n",
    "# Initiate the web scraping task\n",
    "scrape_heading_task()"
   ]
  },
  {
   "cell_type": "code",
   "execution_count": 16,
   "metadata": {},
   "outputs": [
    {
     "name": "stdout",
     "output_type": "stream",
     "text": [
      "Written\n",
      "     output/scrape_heading_task.json\n",
      "<class 'dict'>\n"
     ]
    }
   ],
   "source": [
    "@request\n",
    "def scrape_heading_task(request: Request, data):\n",
    "    # Visit the Omkar Cloud website\n",
    "    response = request.get(\"https://www.omkar.cloud/\")\n",
    "\n",
    "    # Create a BeautifulSoup object    \n",
    "    soup = soupify(response)\n",
    "    \n",
    "    # Retrieve the heading element's text\n",
    "    heading = soup.find('h1').get_text()\n",
    "    \n",
    "    # Save the data as a JSON file in output/scrape_heading_task.json\n",
    "    return {\n",
    "        \"heading\": heading\n",
    "    }  \n",
    "\n",
    "# Initiate the web scraping task\n",
    "tes = scrape_heading_task()\n",
    "print(type(tes))"
   ]
  },
  {
   "cell_type": "code",
   "execution_count": 15,
   "metadata": {},
   "outputs": [
    {
     "name": "stdout",
     "output_type": "stream",
     "text": [
      "Written\n",
      "     output/scrape_heading_task.json\n"
     ]
    }
   ],
   "source": [
    "@request\n",
    "def scrape_heading_task(request: Request, data):\n",
    "\n",
    "    # Visit the Omkar Cloud website\n",
    "    response = request.get('https://www.olx.co.id/yogyakarta-di_g2000032/dijual-rumah-apartemen_c5158', timeout=10)\n",
    "    with open(\"olx.html\", \"w\", encoding=\"utf-8\") as file:\n",
    "        file.write(response.text)\n",
    " \n",
    "# Initiate the web scraping task\n",
    "scrape_heading_task()"
   ]
  },
  {
   "cell_type": "code",
   "execution_count": null,
   "metadata": {},
   "outputs": [],
   "source": []
  }
 ],
 "metadata": {
  "kernelspec": {
   "display_name": ".venv",
   "language": "python",
   "name": "python3"
  },
  "language_info": {
   "codemirror_mode": {
    "name": "ipython",
    "version": 3
   },
   "file_extension": ".py",
   "mimetype": "text/x-python",
   "name": "python",
   "nbconvert_exporter": "python",
   "pygments_lexer": "ipython3",
   "version": "3.10.11"
  }
 },
 "nbformat": 4,
 "nbformat_minor": 2
}
