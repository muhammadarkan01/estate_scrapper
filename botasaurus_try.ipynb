{
 "cells": [
  {
   "cell_type": "code",
   "execution_count": null,
   "metadata": {},
   "outputs": [],
   "source": [
    "from botasaurus.browser import browser, Driver\n",
    "from botasaurus.request import request, Request\n",
    "from botasaurus.soupify import soupify\n",
    "from botasaurus import "
   ]
  },
  {
   "cell_type": "code",
   "execution_count": null,
   "metadata": {},
   "outputs": [
    {
     "name": "stdout",
     "output_type": "stream",
     "text": [
      "Written\n",
      "     output/scrape_heading_task.json\n"
     ]
    },
    {
     "data": {
      "text/plain": [
       "{'heading': 'Get the Data You Want - Effortlessly'}"
      ]
     },
     "execution_count": 4,
     "metadata": {},
     "output_type": "execute_result"
    }
   ],
   "source": [
    "@browser\n",
    "def scrape_heading_task(driver: Driver, data):\n",
    "    # Visit the Omkar Cloud website\n",
    "    driver.get(\"https://www.omkar.cloud/\")\n",
    "    \n",
    "    # Retrieve the heading element's text\n",
    "    heading = driver.get_text(\"h1\")\n",
    "\n",
    "    # Save the data as a JSON file in output/scrape_heading_task.json\n",
    "    return {\n",
    "        \"heading\": heading\n",
    "    }\n",
    "     \n",
    "# Initiate the web scraping task\n",
    "scrape_heading_task()"
   ]
  },
  {
   "cell_type": "code",
   "execution_count": 16,
   "metadata": {},
   "outputs": [
    {
     "name": "stdout",
     "output_type": "stream",
     "text": [
      "Written\n",
      "     output/scrape_heading_task.json\n",
      "<class 'dict'>\n"
     ]
    }
   ],
   "source": [
    "@request\n",
    "def scrape_heading_task(request: Request, data):\n",
    "    # Visit the Omkar Cloud website\n",
    "    response = request.get(\"https://www.omkar.cloud/\")\n",
    "\n",
    "    # Create a BeautifulSoup object    \n",
    "    soup = soupify(response)\n",
    "    \n",
    "    # Retrieve the heading element's text\n",
    "    heading = soup.find('h1').get_text()\n",
    "    \n",
    "    # Save the data as a JSON file in output/scrape_heading_task.json\n",
    "    return {\n",
    "        \"heading\": heading\n",
    "    }  \n",
    "\n",
    "# Initiate the web scraping task\n",
    "tes = scrape_heading_task()\n",
    "print(type(tes))"
   ]
  },
  {
   "cell_type": "code",
   "execution_count": null,
   "metadata": {},
   "outputs": [
    {
     "name": "stdout",
     "output_type": "stream",
     "text": [
      "Running\n",
      "Written\n",
      "     output/scrape_heading_task.json\n"
     ]
    }
   ],
   "source": [
    "@request\n",
    "def scrape_heading_task(request: Request, data):\n",
    "    response = request.get('https://www.realtor.com/realestateandhomes-search/North-Carolina', timeout=10)\n",
    "    with open(\"realtor.html\", \"w\", encoding=\"utf-8\") as file:\n",
    "        file.write(response.text)\n",
    " \n",
    "scrape_heading_task() "
   ]
  },
  {
   "cell_type": "code",
   "execution_count": 7,
   "metadata": {},
   "outputs": [
    {
     "name": "stderr",
     "output_type": "stream",
     "text": [
      "Traceback (most recent call last):\n",
      "  File \"d:\\__Code\\estate_scrapper\\.venv\\lib\\site-packages\\botasaurus\\browser_decorator.py\", line 179, in run_task\n",
      "    result = func(driver, data)\n",
      "  File \"C:\\Users\\arkan\\AppData\\Local\\Temp\\ipykernel_20332\\3486156874.py\", line 7, in scrape_heading_task\n",
      "    driver.get(\"https://www.realtor.com/realestateandhomes-search/North-Carolina/pg-1\")\n",
      "  File \"d:\\__Code\\estate_scrapper\\.venv\\lib\\site-packages\\botasaurus_driver\\driver.py\", line 659, in get\n",
      "    wait_till_document_is_ready(self._tab, self.config.wait_for_complete_page_load)\n",
      "  File \"d:\\__Code\\estate_scrapper\\.venv\\lib\\site-packages\\botasaurus_driver\\solve_cloudflare_captcha.py\", line 27, in wait_till_document_is_ready\n",
      "    raise TimeoutError(\"Document did not become ready within 30 seconds\")\n",
      "TimeoutError: Document did not become ready within 30 seconds\n"
     ]
    },
    {
     "name": "stdout",
     "output_type": "stream",
     "text": [
      "Task failed for input: None\n",
      "View screenshot at d:\\__Code\\estate_scrapper\\error_logs\\2025-02-21_16-39-01\\screenshot.png\n",
      "Written\n",
      "     output/scrape_heading_task.json\n"
     ]
    }
   ],
   "source": [
    "@browser(\n",
    "    block_images=True,  # Blocks images to speed up loading\n",
    "    headless=True       # Runs the browser in headless mode\n",
    ")\n",
    "def scrape_heading_task(driver: Driver, data):\n",
    "    # Navigate to the desired URL\n",
    "    driver.get(\"https://www.realtor.com/realestateandhomes-search/North-Carolina/pg-1\")\n",
    "    \n",
    "    # Extract the page's HTML content\n",
    "    html_page = driver.page_html\n",
    "    \n",
    "    # Save the HTML content to a file\n",
    "    with open(\"realtor.html\", \"w\", encoding=\"utf-8\") as file:\n",
    "        file.write(html_page)\n",
    "    \n",
    "scrape_heading_task() \n"
   ]
  },
  {
   "cell_type": "code",
   "execution_count": null,
   "metadata": {},
   "outputs": [],
   "source": []
  }
 ],
 "metadata": {
  "kernelspec": {
   "display_name": ".venv",
   "language": "python",
   "name": "python3"
  },
  "language_info": {
   "codemirror_mode": {
    "name": "ipython",
    "version": 3
   },
   "file_extension": ".py",
   "mimetype": "text/x-python",
   "name": "python",
   "nbconvert_exporter": "python",
   "pygments_lexer": "ipython3",
   "version": "3.10.11"
  }
 },
 "nbformat": 4,
 "nbformat_minor": 2
}
